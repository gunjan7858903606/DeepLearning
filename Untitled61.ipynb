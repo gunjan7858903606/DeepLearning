{
  "nbformat": 4,
  "nbformat_minor": 0,
  "metadata": {
    "colab": {
      "provenance": [],
      "authorship_tag": "ABX9TyP/iEUENeeyMn6oR7bd1Zky",
      "include_colab_link": true
    },
    "kernelspec": {
      "name": "python3",
      "display_name": "Python 3"
    },
    "language_info": {
      "name": "python"
    }
  },
  "cells": [
    {
      "cell_type": "markdown",
      "metadata": {
        "id": "view-in-github",
        "colab_type": "text"
      },
      "source": [
        "<a href=\"https://colab.research.google.com/github/gunjan7858903606/DeepLearning/blob/main/Untitled61.ipynb\" target=\"_parent\"><img src=\"https://colab.research.google.com/assets/colab-badge.svg\" alt=\"Open In Colab\"/></a>"
      ]
    },
    {
      "cell_type": "code",
      "execution_count": null,
      "metadata": {
        "id": "JkmkUS5p3k4e"
      },
      "outputs": [],
      "source": [
        "Q.1\n",
        "ans=A"
      ]
    },
    {
      "cell_type": "code",
      "source": [
        "Q.2\n",
        "ans=A"
      ],
      "metadata": {
        "id": "aZxb7Tct4S3m"
      },
      "execution_count": null,
      "outputs": []
    },
    {
      "cell_type": "code",
      "source": [
        "Q.3\n",
        "ans=A"
      ],
      "metadata": {
        "id": "celRru_d5UjE"
      },
      "execution_count": null,
      "outputs": []
    },
    {
      "cell_type": "code",
      "source": [
        "Q.4\n",
        "ans=B"
      ],
      "metadata": {
        "id": "HNhIx9bm6zAW"
      },
      "execution_count": null,
      "outputs": []
    },
    {
      "cell_type": "code",
      "source": [
        "Q.5\n",
        "ans=A"
      ],
      "metadata": {
        "id": "aZDswXwL65A2"
      },
      "execution_count": null,
      "outputs": []
    },
    {
      "cell_type": "code",
      "source": [
        "Q.6\n",
        "ans=C"
      ],
      "metadata": {
        "id": "B1nZ9BkX7DQO"
      },
      "execution_count": null,
      "outputs": []
    },
    {
      "cell_type": "code",
      "source": [
        "Q.7\n",
        "ans=B\n"
      ],
      "metadata": {
        "id": "moxtdrxt8hwW"
      },
      "execution_count": null,
      "outputs": []
    },
    {
      "cell_type": "code",
      "source": [
        "Q.8\n",
        "ans=A\n",
        ""
      ],
      "metadata": {
        "id": "oheaENEY8pF0"
      },
      "execution_count": null,
      "outputs": []
    },
    {
      "cell_type": "code",
      "source": [
        "Q.9\n",
        "ans=C"
      ],
      "metadata": {
        "id": "E8y6SQBS8xFP"
      },
      "execution_count": null,
      "outputs": []
    },
    {
      "cell_type": "code",
      "source": [
        "Q.10\n",
        "ans=D"
      ],
      "metadata": {
        "id": "Ob7RqiMA856S"
      },
      "execution_count": null,
      "outputs": []
    },
    {
      "cell_type": "code",
      "source": [
        "Q.11\n",
        "ans=B"
      ],
      "metadata": {
        "id": "_ynmd6Rt9AJp"
      },
      "execution_count": null,
      "outputs": []
    },
    {
      "cell_type": "code",
      "source": [
        "Q.12\n",
        "ans=B"
      ],
      "metadata": {
        "id": "oZECk2bh9g-g"
      },
      "execution_count": null,
      "outputs": []
    },
    {
      "cell_type": "code",
      "source": [
        "Q.13\n",
        "ans=B"
      ],
      "metadata": {
        "id": "2Us5SjED9pNk"
      },
      "execution_count": null,
      "outputs": []
    },
    {
      "cell_type": "code",
      "source": [
        "Q.14\n",
        "ans=A"
      ],
      "metadata": {
        "id": "vsCKug7g9wYd"
      },
      "execution_count": null,
      "outputs": []
    },
    {
      "cell_type": "code",
      "source": [
        "Q.15\n",
        "ans=D"
      ],
      "metadata": {
        "id": "OVs5qdio-xgt"
      },
      "execution_count": null,
      "outputs": []
    },
    {
      "cell_type": "code",
      "source": [
        "Q.16\n",
        "ans=B"
      ],
      "metadata": {
        "id": "zBE_WGtY_TMu"
      },
      "execution_count": null,
      "outputs": []
    },
    {
      "cell_type": "code",
      "source": [
        "Q.17\n",
        "ans=A"
      ],
      "metadata": {
        "id": "RO3QMpba_ngQ"
      },
      "execution_count": null,
      "outputs": []
    },
    {
      "cell_type": "code",
      "source": [
        "Q.18\n",
        "ans=A"
      ],
      "metadata": {
        "id": "b5Pto_sXA0gF"
      },
      "execution_count": null,
      "outputs": []
    },
    {
      "cell_type": "code",
      "source": [
        "Q.19\n",
        "ans=C\n"
      ],
      "metadata": {
        "id": "e-frkGfzA5K7"
      },
      "execution_count": null,
      "outputs": []
    },
    {
      "cell_type": "code",
      "source": [
        "Q.20\n",
        "ans=B"
      ],
      "metadata": {
        "id": "3-d0BquKA_4E"
      },
      "execution_count": null,
      "outputs": []
    },
    {
      "cell_type": "code",
      "source": [
        "Q.21\n",
        "ans=A"
      ],
      "metadata": {
        "id": "z1m6GBiOBEw-"
      },
      "execution_count": null,
      "outputs": []
    },
    {
      "cell_type": "code",
      "source": [
        "Q.22\n",
        "ans=B"
      ],
      "metadata": {
        "id": "hbRk_T70CNxD"
      },
      "execution_count": null,
      "outputs": []
    },
    {
      "cell_type": "code",
      "source": [
        "Q.23\n",
        "ans=A"
      ],
      "metadata": {
        "id": "6Lv8qfmBCThk"
      },
      "execution_count": null,
      "outputs": []
    },
    {
      "cell_type": "code",
      "source": [
        "Q.24\n",
        "ans=A"
      ],
      "metadata": {
        "id": "JNvLwiR2DI5S"
      },
      "execution_count": null,
      "outputs": []
    },
    {
      "cell_type": "code",
      "source": [
        "Q.25\n",
        "ans=C"
      ],
      "metadata": {
        "id": "cxvQpC0wDRe7"
      },
      "execution_count": null,
      "outputs": []
    },
    {
      "cell_type": "code",
      "source": [
        "Q.26\n",
        "ans=A"
      ],
      "metadata": {
        "id": "KtkEfhY-DW48"
      },
      "execution_count": null,
      "outputs": []
    },
    {
      "cell_type": "code",
      "source": [
        "#problem.1"
      ],
      "metadata": {
        "id": "MKd7HlA0EWc2"
      },
      "execution_count": null,
      "outputs": []
    },
    {
      "cell_type": "code",
      "source": [
        "def calculate_performance(employees):\n",
        "    evaluated_employees = []\n",
        "\n",
        "    for employee in employees:\n",
        "        name = employee['name']\n",
        "        scores = employee['scores']\n",
        "        weights = employee['weights']\n",
        "\n",
        "        performance_score = sum(scores[criterion] * weights[criterion] for criterion in scores)\n",
        "\n",
        "        evaluated_employee = {\n",
        "            'name': name,\n",
        "            'performance_score': performance_score\n",
        "        }\n",
        "\n",
        "        evaluated_employees.append(evaluated_employee)\n",
        "\n",
        "    return evaluated_employees"
      ],
      "metadata": {
        "id": "U_2ZghFTEiVL"
      },
      "execution_count": 1,
      "outputs": []
    },
    {
      "cell_type": "code",
      "source": [
        "# Sample input\n",
        "employees = [\n",
        "    {\n",
        "        'name': 'John',\n",
        "        'scores': {'Quality of Work': 90, 'Team Collaboration': 80},\n",
        "        'weights': {'Quality of Work': 0.6, 'Team Collaboration': 0.4}\n",
        "    },\n",
        "    {\n",
        "        'name': 'Alice',\n",
        "        'scores': {'Quality of Work': 85, 'Team Collaboration': 90},\n",
        "        'weights': {'Quality of Work': 0.5, 'Team Collaboration': 0.5}\n",
        "    },\n",
        "    # Add more employee entries as needed\n",
        "]\n",
        "\n",
        "evaluated_employees = calculate_performance(employees)\n",
        "\n",
        "for employee in evaluated_employees:\n",
        "    print(f\"{employee['name']}: Performance Score = {employee['performance_score']}\")"
      ],
      "metadata": {
        "colab": {
          "base_uri": "https://localhost:8080/"
        },
        "id": "3cmJu70wE1dy",
        "outputId": "c92d5a24-c97d-4b4e-be9e-91ecd270489f"
      },
      "execution_count": 2,
      "outputs": [
        {
          "output_type": "stream",
          "name": "stdout",
          "text": [
            "John: Performance Score = 86.0\n",
            "Alice: Performance Score = 87.5\n"
          ]
        }
      ]
    },
    {
      "cell_type": "code",
      "source": [
        "#problem no-2\n",
        "def calculate_final_grades(N, M, marks):\n",
        "    # Initialize a list to store the average scores for each subject\n",
        "    subject_averages = [sum(marks[i][j] for i in range(N)) / N for j in range(M)]\n",
        "\n",
        "    # Find the index of the subject with the lowest average score\n",
        "    lowest_avg_subject_index = subject_averages.index(min(subject_averages))\n",
        "\n",
        "    # Calculate the total score for each student after deducting the lowest average subject score\n",
        "    final_scores = []\n",
        "    for i in range(N):\n",
        "        total_score = sum(marks[i])\n",
        "        total_score -= marks[i][lowest_avg_subject_index]\n",
        "        final_scores.append(total_score)\n",
        "\n",
        "    return final_scores"
      ],
      "metadata": {
        "id": "sBNqOtSzGl9p"
      },
      "execution_count": 3,
      "outputs": []
    },
    {
      "cell_type": "code",
      "source": [
        "# Sample input\n",
        "N = 3\n",
        "M = 4\n",
        "marks = [\n",
        "    [90, 85, 80, 75],\n",
        "    [70, 75, 85, 90],\n",
        "    [80, 90, 70, 75]\n",
        "]\n",
        "\n",
        "final_grades = calculate_final_grades(N, M, marks)\n",
        "\n",
        "for i in range(N):\n",
        "    print(f\"Student {i + 1}: Final Grade = {final_grades[i]}\")"
      ],
      "metadata": {
        "colab": {
          "base_uri": "https://localhost:8080/"
        },
        "id": "Ok-68a1XG17G",
        "outputId": "9808517a-afb0-4ecd-bcc9-6915d6e36410"
      },
      "execution_count": 4,
      "outputs": [
        {
          "output_type": "stream",
          "name": "stdout",
          "text": [
            "Student 1: Final Grade = 250\n",
            "Student 2: Final Grade = 235\n",
            "Student 3: Final Grade = 245\n"
          ]
        }
      ]
    },
    {
      "cell_type": "code",
      "source": [
        "#problem -3\n",
        "def sort_employees_by_id(employees):\n",
        "    # Sort the employees list by 'id' in ascending order\n",
        "    sorted_employees = sorted(employees, key=lambda x: x['id'])\n",
        "    return sorted_employees\n",
        "\n",
        "def sort_employees_by_salary(employees):\n",
        "    # Sort the employees list by 'salary' in descending order\n",
        "    sorted_employees = sorted(employees, key=lambda x: x['salary'], reverse=True)\n",
        "    return sorted_employees"
      ],
      "metadata": {
        "id": "A2D9MzCGHjli"
      },
      "execution_count": 5,
      "outputs": []
    },
    {
      "cell_type": "code",
      "source": [
        "# Sample input\n",
        "employees = [\n",
        "    {\"id\": 101, \"name\": \"John\", \"salary\": 60000},\n",
        "    {\"id\": 103, \"name\": \"Alice\", \"salary\": 75000},\n",
        "    {\"id\": 102, \"name\": \"Bob\", \"salary\": 65000},\n",
        "    # Add more employee records here...\n",
        "]\n",
        "\n",
        "# Sort employees by ID\n",
        "sorted_by_id = sort_employees_by_id(employees)\n",
        "for employee in sorted_by_id:\n",
        "    print(employee)\n",
        "\n",
        "# Sort employees by salary\n",
        "sorted_by_salary = sort_employees_by_salary(employees)\n",
        "for employee in sorted_by_salary:\n",
        "    print(employee)"
      ],
      "metadata": {
        "colab": {
          "base_uri": "https://localhost:8080/"
        },
        "id": "SCQEZw_JHm0j",
        "outputId": "b1a60d2e-38a2-4e1d-d2d3-5360c83f68b5"
      },
      "execution_count": 6,
      "outputs": [
        {
          "output_type": "stream",
          "name": "stdout",
          "text": [
            "{'id': 101, 'name': 'John', 'salary': 60000}\n",
            "{'id': 102, 'name': 'Bob', 'salary': 65000}\n",
            "{'id': 103, 'name': 'Alice', 'salary': 75000}\n",
            "{'id': 103, 'name': 'Alice', 'salary': 75000}\n",
            "{'id': 102, 'name': 'Bob', 'salary': 65000}\n",
            "{'id': 101, 'name': 'John', 'salary': 60000}\n"
          ]
        }
      ]
    },
    {
      "cell_type": "code",
      "source": [
        "#problem 4\n",
        "def find_kth_prime_product(N, prime_numbers, K):\n",
        "\n",
        "    generated_numbers = [1]\n",
        "\n",
        "\n",
        "    current_indices = [0] * N\n",
        "\n",
        "\n",
        "    while len(generated_numbers) < K:\n",
        "\n",
        "        min_product = min(prime_numbers[i] * generated_numbers[current_indices[i]] for i in range(N))\n",
        "\n",
        "        # Add the minimum product to the generated numbers list\n",
        "        generated_numbers.append(min_product)\n",
        "\n",
        "        # Update the indices of the prime numbers used for the minimum product\n",
        "        for i in range(N):\n",
        "            if prime_numbers[i] * generated_numbers[current_indices[i]] == min_product:\n",
        "                current_indices[i] += 1\n",
        "\n",
        "    # The Kth number is the last number in the generated_numbers list\n",
        "    return generated_numbers[K - 1]"
      ],
      "metadata": {
        "id": "VpGNfCrJHv_q"
      },
      "execution_count": 7,
      "outputs": []
    },
    {
      "cell_type": "code",
      "source": [
        "# Sample input\n",
        "N = 3  # Number of prime numbers\n",
        "prime_numbers = [2, 3, 5]  # Dylan's collection of prime numbers\n",
        "K = 4  # Find the 4th number Dylan can create\n",
        "\n",
        "# Find the Kth number\n",
        "result = find_kth_prime_product(N, prime_numbers, K)\n",
        "print(result)  # Output: 10 (since 2 * 5 = 10)"
      ],
      "metadata": {
        "colab": {
          "base_uri": "https://localhost:8080/"
        },
        "id": "eDqi3wt9I1c9",
        "outputId": "2ffac587-c03b-4ef3-fcc9-05a9aee3891e"
      },
      "execution_count": 8,
      "outputs": [
        {
          "output_type": "stream",
          "name": "stdout",
          "text": [
            "4\n"
          ]
        }
      ]
    },
    {
      "cell_type": "code",
      "source": [
        "#problem- 7\n",
        "def longest_common_subsequence(s1, s2):\n",
        "    m, n = len(s1), len(s2)\n",
        "\n",
        "    # Create a 2D table to store the length of the longest common subsequence\n",
        "    dp = [[0] * (n + 1) for _ in range(m + 1)]\n",
        "\n",
        "    # Fill the table using dynamic programming\n",
        "    for i in range(1, m + 1):\n",
        "        for j in range(1, n + 1):\n",
        "            if s1[i - 1] == s2[j - 1]:\n",
        "                dp[i][j] = dp[i - 1][j - 1] + 1\n",
        "            else:\n",
        "                dp[i][j] = max(dp[i - 1][j], dp[i][j - 1])\n",
        "\n",
        "    # The value in the bottom-right corner of the table contains the length of the longest common subsequence\n",
        "    return dp[m][n]\n",
        "\n",
        "# Example usage:\n",
        "s1 = \"AGGTAB\"\n",
        "s2 = \"GXTXAYB\"\n",
        "result = longest_common_subsequence(s1, s2)\n",
        "print(result)  # Output: 4 (longest common subsequence is \"GTAB\")"
      ],
      "metadata": {
        "colab": {
          "base_uri": "https://localhost:8080/"
        },
        "id": "BE6GtVhxJKDE",
        "outputId": "7e220c63-d984-40fe-a33e-24dce9669bce"
      },
      "execution_count": 9,
      "outputs": [
        {
          "output_type": "stream",
          "name": "stdout",
          "text": [
            "4\n"
          ]
        }
      ]
    },
    {
      "cell_type": "code",
      "source": [
        "#problem -8\n",
        "\n",
        "def spiral_order(matrix):\n",
        "    if not matrix:\n",
        "        return []\n",
        "\n",
        "    result = []\n",
        "    row_start, row_end, col_start, col_end = 0, len(matrix) - 1, 0, len(matrix[0]) - 1\n",
        "\n",
        "    while row_start <= row_end and col_start <= col_end:\n",
        "        # Traverse right\n",
        "        for j in range(col_start, col_end + 1):\n",
        "            result.append(matrix[row_start][j])\n",
        "        row_start += 1\n",
        "\n",
        "        # Traverse down\n",
        "        for i in range(row_start, row_end + 1):\n",
        "            result.append(matrix[i][col_end])\n",
        "        col_end -= 1\n",
        "\n",
        "        # Traverse left (if necessary)\n",
        "        if row_start <= row_end:\n",
        "            for j in range(col_end, col_start - 1, -1):\n",
        "                result.append(matrix[row_end][j])\n",
        "            row_end -= 1\n",
        "\n",
        "        # Traverse up (if necessary)\n",
        "        if col_start <= col_end:\n",
        "            for i in range(row_end, row_start - 1, -1):\n",
        "                result.append(matrix[i][col_start])\n",
        "            col_start += 1\n",
        "\n",
        "    return result\n",
        "\n",
        "# Example usage:\n",
        "matrix = [\n",
        "    [1, 2, 3],\n",
        "    [4, 5, 6],\n",
        "    [7, 8, 9]\n",
        "]\n",
        "result = spiral_order(matrix)\n",
        "print(result)  # Output: [1, 2, 3, 6, 9, 8, 7, 4, 5]"
      ],
      "metadata": {
        "colab": {
          "base_uri": "https://localhost:8080/"
        },
        "id": "9FKatHQ5KBNh",
        "outputId": "6702ec4b-c3d8-49c3-de22-f74200075f87"
      },
      "execution_count": 10,
      "outputs": [
        {
          "output_type": "stream",
          "name": "stdout",
          "text": [
            "[1, 2, 3, 6, 9, 8, 7, 4, 5]\n"
          ]
        }
      ]
    },
    {
      "cell_type": "code",
      "source": [
        "#problem - 9\n",
        "def is_valid(board, row, col, num):\n",
        "    # Check if 'num' is already present in the row\n",
        "    if num in board[row]:\n",
        "        return False\n",
        "\n",
        "    # Check if 'num' is already present in the column\n",
        "    if num in [board[i][col] for i in range(9)]:\n",
        "        return False\n",
        "\n",
        "    # Check if 'num' is already present in the 3x3 subgrid\n",
        "    subgrid_row, subgrid_col = 3 * (row // 3), 3 * (col // 3)\n",
        "    for i in range(subgrid_row, subgrid_row + 3):\n",
        "        for j in range(subgrid_col, subgrid_col + 3):\n",
        "            if board[i][j] == num:\n",
        "                return False\n",
        "\n",
        "    return True\n",
        "\n",
        "def solve_sudoku(board):\n",
        "    for row in range(9):\n",
        "        for col in range(9):\n",
        "            if board[row][col] == 0:\n",
        "                for num in range(1, 10):\n",
        "                    if is_valid(board, row, col, num):\n",
        "                        board[row][col] = num\n",
        "                        if solve_sudoku(board):\n",
        "                            return True\n",
        "                        board[row][col] = 0  # Backtrack\n",
        "                return False\n",
        "    return True\n",
        "\n",
        "# Example usage:\n",
        "sudoku_board = [\n",
        "    [5, 3, 0, 0, 7, 0, 0, 0, 0],\n",
        "    [6, 0, 0, 1, 9, 5, 0, 0, 0],\n",
        "    [0, 9, 8, 0, 0, 0, 0, 6, 0],\n",
        "    [8, 0, 0, 0, 6, 0, 0, 0, 3],\n",
        "    [4, 0, 0, 8, 0, 3, 0, 0, 1],\n",
        "    [7, 0, 0, 0, 2, 0, 0, 0, 6],\n",
        "    [0, 6, 0, 0, 0, 0, 2, 8, 0],\n",
        "    [0, 0, 0, 4, 1, 9, 0, 0, 5],\n",
        "    [0, 0, 0, 0, 8, 0, 0, 7, 9]\n",
        "]\n",
        "\n",
        "solve_sudoku(sudoku_board)\n",
        "\n",
        "# Print the solved Sudoku puzzle\n",
        "for row in sudoku_board:\n",
        "    print(row)"
      ],
      "metadata": {
        "colab": {
          "base_uri": "https://localhost:8080/"
        },
        "id": "mfCs0bjTKrft",
        "outputId": "0f5f0ca6-645e-455d-a05c-e25182d86d46"
      },
      "execution_count": 11,
      "outputs": [
        {
          "output_type": "stream",
          "name": "stdout",
          "text": [
            "[5, 3, 4, 6, 7, 8, 9, 1, 2]\n",
            "[6, 7, 2, 1, 9, 5, 3, 4, 8]\n",
            "[1, 9, 8, 3, 4, 2, 5, 6, 7]\n",
            "[8, 5, 9, 7, 6, 1, 4, 2, 3]\n",
            "[4, 2, 6, 8, 5, 3, 7, 9, 1]\n",
            "[7, 1, 3, 9, 2, 4, 8, 5, 6]\n",
            "[9, 6, 1, 5, 3, 7, 2, 8, 4]\n",
            "[2, 8, 7, 4, 1, 9, 6, 3, 5]\n",
            "[3, 4, 5, 2, 8, 6, 1, 7, 9]\n"
          ]
        }
      ]
    }
  ]
}