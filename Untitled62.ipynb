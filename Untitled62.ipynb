{
  "nbformat": 4,
  "nbformat_minor": 0,
  "metadata": {
    "colab": {
      "provenance": [],
      "authorship_tag": "ABX9TyMJpuAoKqbruJfao9oR5M6S",
      "include_colab_link": true
    },
    "kernelspec": {
      "name": "python3",
      "display_name": "Python 3"
    },
    "language_info": {
      "name": "python"
    }
  },
  "cells": [
    {
      "cell_type": "markdown",
      "metadata": {
        "id": "view-in-github",
        "colab_type": "text"
      },
      "source": [
        "<a href=\"https://colab.research.google.com/github/gunjan7858903606/DeepLearning/blob/main/Untitled62.ipynb\" target=\"_parent\"><img src=\"https://colab.research.google.com/assets/colab-badge.svg\" alt=\"Open In Colab\"/></a>"
      ]
    },
    {
      "cell_type": "markdown",
      "source": [],
      "metadata": {
        "id": "pZ__mHfDVFxA"
      }
    },
    {
      "cell_type": "code",
      "source": [
        "Q.1\n",
        "ans="
      ],
      "metadata": {
        "id": "tPg8HGHdOblJ"
      },
      "execution_count": null,
      "outputs": []
    },
    {
      "cell_type": "code",
      "source": [
        "Q.2\n",
        "ans="
      ],
      "metadata": {
        "id": "Ih1dp03qHwJc"
      },
      "execution_count": null,
      "outputs": []
    },
    {
      "cell_type": "code",
      "source": [
        "Q.3\n",
        "ans=A"
      ],
      "metadata": {
        "id": "CE8d1I_DNkml"
      },
      "execution_count": null,
      "outputs": []
    },
    {
      "cell_type": "code",
      "source": [
        "Q.4\n",
        "ans=C"
      ],
      "metadata": {
        "id": "eg90nPb4Nqul"
      },
      "execution_count": null,
      "outputs": []
    },
    {
      "cell_type": "code",
      "source": [
        "Q.5\n",
        "ans=B"
      ],
      "metadata": {
        "id": "v14a9WqWNyqj"
      },
      "execution_count": null,
      "outputs": []
    },
    {
      "cell_type": "code",
      "source": [
        "Q.6\n",
        "ans=C"
      ],
      "metadata": {
        "id": "f9f64fB0N3B-"
      },
      "execution_count": null,
      "outputs": []
    },
    {
      "cell_type": "code",
      "source": [
        "Q.7\n",
        "ans="
      ],
      "metadata": {
        "id": "ebTlak-tOB75"
      },
      "execution_count": null,
      "outputs": []
    },
    {
      "cell_type": "code",
      "source": [
        "#.1 problem"
      ],
      "metadata": {
        "id": "F5g5F5YIM6j9"
      },
      "execution_count": null,
      "outputs": []
    },
    {
      "cell_type": "code",
      "source": [
        "import numpy as np\n",
        "import pandas as pd\n",
        "from sklearn.model_selection import train_test_split\n",
        "from sklearn.linear_model import LogisticRegression\n",
        "from sklearn.metrics import accuracy_score, classification_report, confusion_matrix\n",
        "\n",
        "data = {\n",
        "    'Age': [25, 30, 35, 22, 28, 45, 40, 60, 55, 48],\n",
        "    'Income': [40000, 60000, 80000, 20000, 30000, 75000, 90000, 110000, 100000, 85000],\n",
        "    'Buy_Product': [0, 1, 1, 0, 0, 1, 1, 1, 1, 0]\n",
        "}\n",
        "\n",
        "df = pd.DataFrame(data)\n",
        "\n",
        "X = df[['Age', 'Income']]\n",
        "y = df['Buy_Product']\n",
        "\n",
        "X_train, X_test, y_train, y_test = train_test_split(X, y, test_size=0.2, random_state=42)\n",
        "\n",
        "model = LogisticRegression()\n",
        "model.fit(X_train, y_train)\n",
        "\n",
        "y_pred = model.predict(X_test)\n",
        "\n",
        "accuracy = accuracy_score(y_test, y_pred)\n",
        "conf_matrix = confusion_matrix(y_test, y_pred)\n",
        "classification_rep = classification_report(y_test, y_pred)\n",
        "\n",
        "print(f'Accuracy: {accuracy}')\n",
        "print(f'Confusion Matrix:\\n{conf_matrix}')\n",
        "print(f'Classification Report:\\n{classification_rep}')"
      ],
      "metadata": {
        "colab": {
          "base_uri": "https://localhost:8080/"
        },
        "id": "UY7_8B9TMOBs",
        "outputId": "c643b78c-ecdf-4909-a03a-3da44393fde0"
      },
      "execution_count": 5,
      "outputs": [
        {
          "output_type": "stream",
          "name": "stdout",
          "text": [
            "Accuracy: 1.0\n",
            "Confusion Matrix:\n",
            "[[2]]\n",
            "Classification Report:\n",
            "              precision    recall  f1-score   support\n",
            "\n",
            "           1       1.00      1.00      1.00         2\n",
            "\n",
            "    accuracy                           1.00         2\n",
            "   macro avg       1.00      1.00      1.00         2\n",
            "weighted avg       1.00      1.00      1.00         2\n",
            "\n"
          ]
        }
      ]
    },
    {
      "cell_type": "code",
      "source": [
        "#.2 problem"
      ],
      "metadata": {
        "id": "Ce375p5kQsq7"
      },
      "execution_count": null,
      "outputs": []
    },
    {
      "cell_type": "code",
      "source": [
        "import pandas as pd\n",
        "from sklearn.model_selection import train_test_split\n",
        "from sklearn.tree import DecisionTreeClassifier\n",
        "from sklearn.metrics import accuracy_score, classification_report\n",
        "\n",
        "data = pd.DataFrame({\n",
        "    'Weight (grams)': [120, 150, 130, 140, 180, 200, 160, 190, 170, 110],\n",
        "    'Color (1-Red, 2-Yellow, 3-Orange)': [1, 2, 1, 2, 3, 2, 3, 1, 2, 3],\n",
        "    'Fruit': ['Apple', 'Banana', 'Apple', 'Banana', 'Orange', 'Banana', 'Orange', 'Apple', 'Banana', 'Apple']\n",
        "})\n",
        "\n",
        "X = data[['Weight (grams)', 'Color (1-Red, 2-Yellow, 3-Orange)']]\n",
        "y = data['Fruit']\n",
        "X_train, X_test, y_train, y_test = train_test_split(X, y, test_size=0.2, random_state=42)\n",
        "\n",
        "model = DecisionTreeClassifier()\n",
        "\n",
        "model.fit(X_train, y_train)\n",
        "\n",
        "y_pred = model.predict(X_test)\n",
        "\n",
        "accuracy = accuracy_score(y_test, y_pred)\n",
        "\n",
        "classification_rep = classification_report(y_test, y_pred)\n",
        "\n",
        "print(f\"Accuracy: {accuracy}\")\n",
        "print(\"Classification Report:\\n\", classification_rep)"
      ],
      "metadata": {
        "colab": {
          "base_uri": "https://localhost:8080/"
        },
        "id": "o0VmU14KOPYp",
        "outputId": "2c279e44-b157-412a-acc2-19382ec75b1a"
      },
      "execution_count": 6,
      "outputs": [
        {
          "output_type": "stream",
          "name": "stdout",
          "text": [
            "Accuracy: 1.0\n",
            "Classification Report:\n",
            "               precision    recall  f1-score   support\n",
            "\n",
            "      Banana       1.00      1.00      1.00         2\n",
            "\n",
            "    accuracy                           1.00         2\n",
            "   macro avg       1.00      1.00      1.00         2\n",
            "weighted avg       1.00      1.00      1.00         2\n",
            "\n"
          ]
        }
      ]
    },
    {
      "cell_type": "code",
      "source": [
        "#.3 problem"
      ],
      "metadata": {
        "id": "ryVr2zKNRnYn"
      },
      "execution_count": null,
      "outputs": []
    },
    {
      "cell_type": "code",
      "source": [
        "import pandas as pd\n",
        "import matplotlib.pyplot as plt\n",
        "from sklearn.cluster import KMeans\n",
        "\n",
        "data = pd.DataFrame({\n",
        "    'Age': [22, 24, 30, 20, 25, 28, 35, 40, 50, 60],\n",
        "    'Income (in $1000)': [20, 22, 25, 18, 35, 40, 60, 55, 80, 85]\n",
        "})\n",
        "\n",
        "kmeans = KMeans(n_clusters=3)\n",
        "kmeans.fit(data)\n",
        "\n",
        "labels = kmeans.labels_\n",
        "\n",
        "data['Cluster'] = labels\n",
        "\n",
        "plt.figure(figsize=(8, 6))\n",
        "plt.scatter(data['Age'], data['Income (in $1000)'], c=labels, cmap='viridis')\n",
        "plt.scatter(kmeans.cluster_centers_[:, 0], kmeans.cluster_centers_[:, 1], s=300, c='red', label='Centroids')\n",
        "plt.xlabel('Age')\n",
        "plt.ylabel('Income (in $1000)')\n",
        "plt.title('K-Means Clustering')\n",
        "plt.legend()\n",
        "plt.show()"
      ],
      "metadata": {
        "colab": {
          "base_uri": "https://localhost:8080/",
          "height": 619
        },
        "id": "-kyjk2NiQRYa",
        "outputId": "0f01ec03-354b-48fd-926c-03dd3f2a3e1f"
      },
      "execution_count": 7,
      "outputs": [
        {
          "output_type": "stream",
          "name": "stderr",
          "text": [
            "/usr/local/lib/python3.10/dist-packages/sklearn/cluster/_kmeans.py:870: FutureWarning: The default value of `n_init` will change from 10 to 'auto' in 1.4. Set the value of `n_init` explicitly to suppress the warning\n",
            "  warnings.warn(\n"
          ]
        },
        {
          "output_type": "display_data",
          "data": {
            "text/plain": [
              "<Figure size 800x600 with 1 Axes>"
            ],
            "image/png": "[encoded data removed]"
          },
          "metadata": {}
        }
      ]
    },
    {
      "cell_type": "code",
      "source": [
        "#.8 problem"
      ],
      "metadata": {
        "id": "RPKPW7emRvic"
      },
      "execution_count": null,
      "outputs": []
    },
    {
      "cell_type": "code",
      "source": [
        "import pandas as pd\n",
        "from sklearn.decomposition import PCA\n",
        "\n",
        "data = pd.DataFrame({\n",
        "    'Feature1': [1.0, 2.0, 3.0, 4.0, 5.0],\n",
        "    'Feature2': [5.0, 4.0, 3.0, 2.0, 1.0],\n",
        "    'Feature3': [0.5, 1.5, 2.5, 3.5, 4.5]\n",
        "})\n",
        "\n",
        "pca = PCA(n_components=3)\n",
        "\n",
        "data_pca = pca.fit_transform(data)\n",
        "\n",
        "print(\"Principal Components:\")\n",
        "print(pca.components_)\n",
        "\n",
        "print(\"\\nExplained Variance:\")\n",
        "print(pca.explained_variance_ratio_)"
      ],
      "metadata": {
        "colab": {
          "base_uri": "https://localhost:8080/"
        },
        "id": "NiHmIOMeS4GE",
        "outputId": "649da2db-269c-478c-9134-8d714e8b28e4"
      },
      "execution_count": 8,
      "outputs": [
        {
          "output_type": "stream",
          "name": "stdout",
          "text": [
            "Principal Components:\n",
            "[[-0.57735027  0.57735027 -0.57735027]\n",
            " [-0.81649658 -0.40824829  0.40824829]\n",
            " [-0.         -0.70710678 -0.70710678]]\n",
            "\n",
            "Explained Variance:\n",
            "[1.00000000e+00 6.57384088e-33 2.02572112e-64]\n"
          ]
        }
      ]
    },
    {
      "cell_type": "code",
      "source": [
        "#.4 problem"
      ],
      "metadata": {
        "id": "MSibiX35T2Ij"
      },
      "execution_count": null,
      "outputs": []
    },
    {
      "cell_type": "code",
      "source": [
        "import pandas as pd\n",
        "from sklearn.model_selection import train_test_split\n",
        "from sklearn.linear_model import LinearRegression\n",
        "from sklearn.metrics import mean_squared_error, r2_score\n",
        "\n",
        "data = {\n",
        "    'Bedrooms': [2, 3, 4, 2, 3, 4, 3, 4, 2, 3],\n",
        "    'SquareFootage': [1200, 1500, 1800, 1100, 1600, 2000, 1400, 1900, 1000, 1300],\n",
        "    'Price': [150000, 200000, 250000, 140000, 220000, 280000, 190000, 260000, 130000, 180000]\n",
        "}\n",
        "\n",
        "df = pd.DataFrame(data)\n",
        "\n",
        "X = df[['Bedrooms', 'SquareFootage']]\n",
        "y = df['Price']\n",
        "\n",
        "X_train, X_test, y_train, y_test = train_test_split(X, y, test_size=0.2, random_state=42)\n",
        "\n",
        "model = LinearRegression()\n",
        "model.fit(X_train, y_train)\n",
        "\n",
        "y_pred = model.predict(X_test)\n",
        "\n",
        "mse = mean_squared_error(y_test, y_pred)\n",
        "r2 = r2_score(y_test, y_pred)\n",
        "\n",
        "print(f'Mean Squared Error: {mse}')\n",
        "print(f'R-squared (R2) Score: {r2}')"
      ],
      "metadata": {
        "colab": {
          "base_uri": "https://localhost:8080/"
        },
        "id": "os44_jXiTLcM",
        "outputId": "3e702194-3754-4f64-e93f-8a94fe370dde"
      },
      "execution_count": 9,
      "outputs": [
        {
          "output_type": "stream",
          "name": "stdout",
          "text": [
            "Mean Squared Error: 5717993.079584863\n",
            "R-squared (R2) Score: 0.9953322505472777\n"
          ]
        }
      ]
    },
    {
      "cell_type": "markdown",
      "source": [
        "# **numpy and pandas**"
      ],
      "metadata": {
        "id": "-7A-cRZaV3Eq"
      }
    },
    {
      "cell_type": "code",
      "source": [
        "Q.1\n",
        "ans=A"
      ],
      "metadata": {
        "id": "_Hu21972WKMJ"
      },
      "execution_count": null,
      "outputs": []
    },
    {
      "cell_type": "code",
      "source": [
        "Q.2\n",
        "ans=B"
      ],
      "metadata": {
        "id": "pHs9Am1EWQu5"
      },
      "execution_count": null,
      "outputs": []
    },
    {
      "cell_type": "code",
      "source": [
        "Q.3\n",
        "ans=A"
      ],
      "metadata": {
        "id": "efFp79gXWUqi"
      },
      "execution_count": null,
      "outputs": []
    },
    {
      "cell_type": "code",
      "source": [
        "Q.4\n",
        "ans=B"
      ],
      "metadata": {
        "id": "nhwoCCmTXMd-"
      },
      "execution_count": null,
      "outputs": []
    },
    {
      "cell_type": "code",
      "source": [
        "Q.5\n",
        "ans=A"
      ],
      "metadata": {
        "id": "_ITHXCVPXQnU"
      },
      "execution_count": null,
      "outputs": []
    },
    {
      "cell_type": "code",
      "source": [
        "Q.6\n",
        "ans=B"
      ],
      "metadata": {
        "id": "8mYkzdzWXVUW"
      },
      "execution_count": null,
      "outputs": []
    },
    {
      "cell_type": "code",
      "source": [
        "Q.7\n",
        "ans="
      ],
      "metadata": {
        "id": "BkS6VKOjXZs1"
      },
      "execution_count": null,
      "outputs": []
    },
    {
      "cell_type": "code",
      "source": [
        "Q.8\n",
        "ans="
      ],
      "metadata": {
        "id": "i6ZCvmFtXhBU"
      },
      "execution_count": null,
      "outputs": []
    },
    {
      "cell_type": "code",
      "source": [
        "#.1 problem"
      ],
      "metadata": {
        "id": "qgxiPHiiacfF"
      },
      "execution_count": null,
      "outputs": []
    },
    {
      "cell_type": "code",
      "source": [
        "import pandas as pd\n",
        "\n",
        "data = {'Name': ['Alice', 'Bob', 'Charlie'], 'Age': [25, 30, 22]}\n",
        "df = pd.DataFrame(data)\n",
        "\n",
        "print(df)\n",
        "alice_age = df[df['Name'] == 'Alice']['Age'].values[0]\n",
        "print(\"Alice's Age:\", alice_age)\n",
        "\n",
        "average_age = df['Age'].mean()\n",
        "print(\"Average Age:\", average_age)"
      ],
      "metadata": {
        "colab": {
          "base_uri": "https://localhost:8080/"
        },
        "id": "o-ET-79LYQ0e",
        "outputId": "018b59c4-8a00-48dc-ea4e-59ae69045db8"
      },
      "execution_count": 10,
      "outputs": [
        {
          "output_type": "stream",
          "name": "stdout",
          "text": [
            "      Name  Age\n",
            "0    Alice   25\n",
            "1      Bob   30\n",
            "2  Charlie   22\n",
            "Alice's Age: 25\n",
            "Average Age: 25.666666666666668\n"
          ]
        }
      ]
    },
    {
      "cell_type": "code",
      "source": [
        "#.2 problem"
      ],
      "metadata": {
        "id": "CzlR0DsKbW97"
      },
      "execution_count": null,
      "outputs": []
    },
    {
      "cell_type": "code",
      "source": [
        "import pandas as pd\n",
        "\n",
        "data = {'City': [\"New York\", \"Los Angeles\", \"Chicago\"],\n",
        "        'Population': [8623000, 3999759, 2716000]}\n",
        "\n",
        "df = pd.DataFrame(data)\n",
        "print(df)\n",
        "\n",
        "city_with_largest_population = df[df['Population'] == df['Population'].max()]['City'].values[0]\n",
        "print(\"City with the largest population:\", city_with_largest_population)\n",
        "\n",
        "total_population = df['Population'].sum()\n",
        "print(\"Total Population of all cities:\", total_population)"
      ],
      "metadata": {
        "colab": {
          "base_uri": "https://localhost:8080/"
        },
        "id": "jBDORWwba0M8",
        "outputId": "b7effec2-5ae2-47a2-b751-05c88ff1643c"
      },
      "execution_count": 11,
      "outputs": [
        {
          "output_type": "stream",
          "name": "stdout",
          "text": [
            "          City  Population\n",
            "0     New York     8623000\n",
            "1  Los Angeles     3999759\n",
            "2      Chicago     2716000\n",
            "City with the largest population: New York\n",
            "Total Population of all cities: 15338759\n"
          ]
        }
      ]
    },
    {
      "cell_type": "code",
      "source": [
        "#.3 problem"
      ],
      "metadata": {
        "id": "QMqp4ktybvnX"
      },
      "execution_count": null,
      "outputs": []
    },
    {
      "cell_type": "code",
      "source": [
        "import numpy as np\n",
        "arr = np.random.uniform(0, 1, 20)\n",
        "\n",
        "print(\"Array 'arr':\")\n",
        "print(arr)\n",
        "\n",
        "mean_value = np.mean(arr)\n",
        "print(\"Mean of 'arr':\", mean_value)\n",
        "\n",
        "count_greater_than_0_5 = np.sum(arr > 0.5)\n",
        "print(\"Count of values greater than 0.5 in 'arr':\", count_greater_than_0_5)"
      ],
      "metadata": {
        "colab": {
          "base_uri": "https://localhost:8080/"
        },
        "id": "goBtrW6Mb7DP",
        "outputId": "77faad3b-c53d-4d91-ccf7-e2e6913cd0a6"
      },
      "execution_count": 12,
      "outputs": [
        {
          "output_type": "stream",
          "name": "stdout",
          "text": [
            "Array 'arr':\n",
            "[0.84716611 0.98395842 0.55886036 0.6881356  0.56325628 0.79495284\n",
            " 0.43282651 0.49638861 0.9260213  0.15638798 0.70047694 0.31700685\n",
            " 0.41794374 0.94284948 0.25148017 0.08784306 0.1282891  0.72152916\n",
            " 0.11727708 0.27599407]\n",
            "Mean of 'arr': 0.5204321822738539\n",
            "Count of values greater than 0.5 in 'arr': 10\n"
          ]
        }
      ]
    },
    {
      "cell_type": "code",
      "source": [
        "#.7 problem"
      ],
      "metadata": {
        "id": "aKf0t_tBcmkm"
      },
      "execution_count": null,
      "outputs": []
    },
    {
      "cell_type": "code",
      "source": [
        "import pandas as pd\n",
        "data = {'Country': [\"USA\", \"China\", \"Japan\"], 'GDP (in billions USD)': [21427, 14342, 5082]}\n",
        "df = pd.DataFrame(data)\n",
        "print(df)\n",
        "\n",
        "highest_gdp_country = df[df['GDP (in billions USD)'] == df['GDP (in billions USD)'].max()]['Country'].values[0]\n",
        "print(\"Country with the highest GDP:\", highest_gdp_country)\n",
        "\n",
        "total_gdp = df['GDP (in billions USD)'].sum()\n",
        "print(\"Total GDP of all countries:\", total_gdp)"
      ],
      "metadata": {
        "colab": {
          "base_uri": "https://localhost:8080/"
        },
        "id": "h-05XZ7Scq52",
        "outputId": "49f136a2-5500-4fd4-fd84-7be65f0c7351"
      },
      "execution_count": 13,
      "outputs": [
        {
          "output_type": "stream",
          "name": "stdout",
          "text": [
            "  Country  GDP (in billions USD)\n",
            "0     USA                  21427\n",
            "1   China                  14342\n",
            "2   Japan                   5082\n",
            "Country with the highest GDP: USA\n",
            "Total GDP of all countries: 40851\n"
          ]
        }
      ]
    },
    {
      "cell_type": "code",
      "source": [
        "#.10 problem"
      ],
      "metadata": {
        "id": "yUrUrnd2dUXP"
      },
      "execution_count": null,
      "outputs": []
    },
    {
      "cell_type": "code",
      "source": [
        "import pandas as pd\n",
        "\n",
        "data = {\"City\": [\"Denver\", \"Nairobi\", \"Kathmandu\"],\n",
        "        \"Elevation in rel\": [1609, 1795, 1400]}\n",
        "\n",
        "df = pd.DataFrame(data)\n",
        "print(df)\n",
        "\n",
        "lowest_elevation_city = df[df[\"Elevation in rel\"] == df[\"Elevation in rel\"].min()][\"City\"].values[0]\n",
        "\n",
        "print(\"City with the lowest elevation:\", lowest_elevation_city)"
      ],
      "metadata": {
        "colab": {
          "base_uri": "https://localhost:8080/"
        },
        "id": "fvDlQvqifux_",
        "outputId": "7e8f7659-7778-4c07-9f8e-e5caca5f8f49"
      },
      "execution_count": 14,
      "outputs": [
        {
          "output_type": "stream",
          "name": "stdout",
          "text": [
            "        City  Elevation in rel\n",
            "0     Denver              1609\n",
            "1    Nairobi              1795\n",
            "2  Kathmandu              1400\n",
            "City with the lowest elevation: Kathmandu\n"
          ]
        }
      ]
    }
  ]
}